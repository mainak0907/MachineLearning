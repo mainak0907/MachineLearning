{
  "nbformat": 4,
  "nbformat_minor": 0,
  "metadata": {
    "colab": {
      "provenance": []
    },
    "kernelspec": {
      "name": "python3",
      "display_name": "Python 3"
    },
    "language_info": {
      "name": "python"
    }
  },
  "cells": [
    {
      "cell_type": "code",
      "source": [
        "import numpy as np\n",
        "from keras.models import Sequential\n",
        "from keras.layers.core import Activation, Dense"
      ],
      "metadata": {
        "id": "WtGc1QovY_r9"
      },
      "execution_count": null,
      "outputs": []
    },
    {
      "cell_type": "code",
      "execution_count": null,
      "metadata": {
        "id": "IBMPaZ6PYlYk"
      },
      "outputs": [],
      "source": [
        "# the four different states of the XNOR gate\n",
        "training_data = np.array([[0,0],[0,1],[1,0],[1,1]], \"float32\")\n",
        "\n",
        "# the four expected results in the same order\n",
        "target_data = np.array([[1],[0],[0],[1]], \"float32\")"
      ]
    },
    {
      "cell_type": "code",
      "source": [
        "model = Sequential()\n",
        "model.add(Dense(16, input_dim=2, activation='relu'))\n",
        "model.add(Dense(1, activation='sigmoid'))"
      ],
      "metadata": {
        "id": "RJaO18z6YqGD"
      },
      "execution_count": null,
      "outputs": []
    },
    {
      "cell_type": "code",
      "source": [
        "model.compile(loss='mean_squared_error',\n",
        "              optimizer='adam',\n",
        "              metrics=['binary_accuracy'])"
      ],
      "metadata": {
        "id": "Yex4MEFFYrvE"
      },
      "execution_count": null,
      "outputs": []
    },
    {
      "cell_type": "code",
      "source": [
        "model.fit(training_data, target_data, epochs=100, verbose=2)"
      ],
      "metadata": {
        "colab": {
          "base_uri": "https://localhost:8080/"
        },
        "id": "C9FdcC9zYtqM",
        "outputId": "4c8b25f4-1b47-48ec-9be1-2b3fef5b9e5c"
      },
      "execution_count": null,
      "outputs": [
        {
          "output_type": "stream",
          "name": "stdout",
          "text": [
            "Epoch 1/100\n",
            "1/1 - 1s - loss: 0.2473 - binary_accuracy: 0.2500 - 866ms/epoch - 866ms/step\n",
            "Epoch 2/100\n",
            "1/1 - 0s - loss: 0.2467 - binary_accuracy: 0.2500 - 10ms/epoch - 10ms/step\n",
            "Epoch 3/100\n",
            "1/1 - 0s - loss: 0.2461 - binary_accuracy: 0.5000 - 9ms/epoch - 9ms/step\n",
            "Epoch 4/100\n",
            "1/1 - 0s - loss: 0.2454 - binary_accuracy: 0.5000 - 7ms/epoch - 7ms/step\n",
            "Epoch 5/100\n",
            "1/1 - 0s - loss: 0.2448 - binary_accuracy: 0.5000 - 11ms/epoch - 11ms/step\n",
            "Epoch 6/100\n",
            "1/1 - 0s - loss: 0.2442 - binary_accuracy: 0.5000 - 8ms/epoch - 8ms/step\n",
            "Epoch 7/100\n",
            "1/1 - 0s - loss: 0.2436 - binary_accuracy: 0.5000 - 10ms/epoch - 10ms/step\n",
            "Epoch 8/100\n",
            "1/1 - 0s - loss: 0.2430 - binary_accuracy: 0.5000 - 10ms/epoch - 10ms/step\n",
            "Epoch 9/100\n",
            "1/1 - 0s - loss: 0.2424 - binary_accuracy: 0.5000 - 9ms/epoch - 9ms/step\n",
            "Epoch 10/100\n",
            "1/1 - 0s - loss: 0.2418 - binary_accuracy: 0.5000 - 10ms/epoch - 10ms/step\n",
            "Epoch 11/100\n",
            "1/1 - 0s - loss: 0.2412 - binary_accuracy: 0.5000 - 6ms/epoch - 6ms/step\n",
            "Epoch 12/100\n",
            "1/1 - 0s - loss: 0.2407 - binary_accuracy: 0.5000 - 7ms/epoch - 7ms/step\n",
            "Epoch 13/100\n",
            "1/1 - 0s - loss: 0.2401 - binary_accuracy: 0.5000 - 9ms/epoch - 9ms/step\n",
            "Epoch 14/100\n",
            "1/1 - 0s - loss: 0.2395 - binary_accuracy: 0.5000 - 9ms/epoch - 9ms/step\n",
            "Epoch 15/100\n",
            "1/1 - 0s - loss: 0.2389 - binary_accuracy: 0.5000 - 10ms/epoch - 10ms/step\n",
            "Epoch 16/100\n",
            "1/1 - 0s - loss: 0.2384 - binary_accuracy: 0.5000 - 14ms/epoch - 14ms/step\n",
            "Epoch 17/100\n",
            "1/1 - 0s - loss: 0.2378 - binary_accuracy: 0.5000 - 20ms/epoch - 20ms/step\n",
            "Epoch 18/100\n",
            "1/1 - 0s - loss: 0.2372 - binary_accuracy: 0.5000 - 17ms/epoch - 17ms/step\n",
            "Epoch 19/100\n",
            "1/1 - 0s - loss: 0.2367 - binary_accuracy: 0.5000 - 10ms/epoch - 10ms/step\n",
            "Epoch 20/100\n",
            "1/1 - 0s - loss: 0.2361 - binary_accuracy: 0.5000 - 12ms/epoch - 12ms/step\n",
            "Epoch 21/100\n",
            "1/1 - 0s - loss: 0.2356 - binary_accuracy: 0.5000 - 14ms/epoch - 14ms/step\n",
            "Epoch 22/100\n",
            "1/1 - 0s - loss: 0.2351 - binary_accuracy: 0.5000 - 12ms/epoch - 12ms/step\n",
            "Epoch 23/100\n",
            "1/1 - 0s - loss: 0.2346 - binary_accuracy: 0.5000 - 13ms/epoch - 13ms/step\n",
            "Epoch 24/100\n",
            "1/1 - 0s - loss: 0.2341 - binary_accuracy: 0.5000 - 13ms/epoch - 13ms/step\n",
            "Epoch 25/100\n",
            "1/1 - 0s - loss: 0.2336 - binary_accuracy: 0.5000 - 12ms/epoch - 12ms/step\n",
            "Epoch 26/100\n",
            "1/1 - 0s - loss: 0.2331 - binary_accuracy: 0.5000 - 15ms/epoch - 15ms/step\n",
            "Epoch 27/100\n",
            "1/1 - 0s - loss: 0.2326 - binary_accuracy: 0.5000 - 10ms/epoch - 10ms/step\n",
            "Epoch 28/100\n",
            "1/1 - 0s - loss: 0.2321 - binary_accuracy: 0.5000 - 15ms/epoch - 15ms/step\n",
            "Epoch 29/100\n",
            "1/1 - 0s - loss: 0.2317 - binary_accuracy: 0.5000 - 29ms/epoch - 29ms/step\n",
            "Epoch 30/100\n",
            "1/1 - 0s - loss: 0.2312 - binary_accuracy: 0.5000 - 15ms/epoch - 15ms/step\n",
            "Epoch 31/100\n",
            "1/1 - 0s - loss: 0.2307 - binary_accuracy: 0.5000 - 12ms/epoch - 12ms/step\n",
            "Epoch 32/100\n",
            "1/1 - 0s - loss: 0.2303 - binary_accuracy: 0.5000 - 13ms/epoch - 13ms/step\n",
            "Epoch 33/100\n",
            "1/1 - 0s - loss: 0.2298 - binary_accuracy: 0.5000 - 11ms/epoch - 11ms/step\n",
            "Epoch 34/100\n",
            "1/1 - 0s - loss: 0.2293 - binary_accuracy: 0.5000 - 11ms/epoch - 11ms/step\n",
            "Epoch 35/100\n",
            "1/1 - 0s - loss: 0.2289 - binary_accuracy: 0.5000 - 15ms/epoch - 15ms/step\n",
            "Epoch 36/100\n",
            "1/1 - 0s - loss: 0.2284 - binary_accuracy: 0.5000 - 7ms/epoch - 7ms/step\n",
            "Epoch 37/100\n",
            "1/1 - 0s - loss: 0.2280 - binary_accuracy: 0.5000 - 9ms/epoch - 9ms/step\n",
            "Epoch 38/100\n",
            "1/1 - 0s - loss: 0.2276 - binary_accuracy: 0.5000 - 10ms/epoch - 10ms/step\n",
            "Epoch 39/100\n",
            "1/1 - 0s - loss: 0.2272 - binary_accuracy: 0.5000 - 9ms/epoch - 9ms/step\n",
            "Epoch 40/100\n",
            "1/1 - 0s - loss: 0.2268 - binary_accuracy: 0.5000 - 30ms/epoch - 30ms/step\n",
            "Epoch 41/100\n",
            "1/1 - 0s - loss: 0.2264 - binary_accuracy: 0.5000 - 10ms/epoch - 10ms/step\n",
            "Epoch 42/100\n",
            "1/1 - 0s - loss: 0.2260 - binary_accuracy: 0.5000 - 11ms/epoch - 11ms/step\n",
            "Epoch 43/100\n",
            "1/1 - 0s - loss: 0.2256 - binary_accuracy: 0.5000 - 14ms/epoch - 14ms/step\n",
            "Epoch 44/100\n",
            "1/1 - 0s - loss: 0.2252 - binary_accuracy: 0.7500 - 9ms/epoch - 9ms/step\n",
            "Epoch 45/100\n",
            "1/1 - 0s - loss: 0.2248 - binary_accuracy: 0.7500 - 11ms/epoch - 11ms/step\n",
            "Epoch 46/100\n",
            "1/1 - 0s - loss: 0.2244 - binary_accuracy: 0.7500 - 10ms/epoch - 10ms/step\n",
            "Epoch 47/100\n",
            "1/1 - 0s - loss: 0.2240 - binary_accuracy: 0.7500 - 9ms/epoch - 9ms/step\n",
            "Epoch 48/100\n",
            "1/1 - 0s - loss: 0.2236 - binary_accuracy: 0.7500 - 11ms/epoch - 11ms/step\n",
            "Epoch 49/100\n",
            "1/1 - 0s - loss: 0.2232 - binary_accuracy: 0.7500 - 12ms/epoch - 12ms/step\n",
            "Epoch 50/100\n",
            "1/1 - 0s - loss: 0.2228 - binary_accuracy: 0.7500 - 11ms/epoch - 11ms/step\n",
            "Epoch 51/100\n",
            "1/1 - 0s - loss: 0.2224 - binary_accuracy: 0.7500 - 10ms/epoch - 10ms/step\n",
            "Epoch 52/100\n",
            "1/1 - 0s - loss: 0.2221 - binary_accuracy: 0.7500 - 16ms/epoch - 16ms/step\n",
            "Epoch 53/100\n",
            "1/1 - 0s - loss: 0.2217 - binary_accuracy: 0.7500 - 10ms/epoch - 10ms/step\n",
            "Epoch 54/100\n",
            "1/1 - 0s - loss: 0.2213 - binary_accuracy: 0.7500 - 11ms/epoch - 11ms/step\n",
            "Epoch 55/100\n",
            "1/1 - 0s - loss: 0.2209 - binary_accuracy: 0.7500 - 21ms/epoch - 21ms/step\n",
            "Epoch 56/100\n",
            "1/1 - 0s - loss: 0.2205 - binary_accuracy: 0.7500 - 21ms/epoch - 21ms/step\n",
            "Epoch 57/100\n",
            "1/1 - 0s - loss: 0.2201 - binary_accuracy: 0.7500 - 10ms/epoch - 10ms/step\n",
            "Epoch 58/100\n",
            "1/1 - 0s - loss: 0.2198 - binary_accuracy: 0.7500 - 12ms/epoch - 12ms/step\n",
            "Epoch 59/100\n",
            "1/1 - 0s - loss: 0.2194 - binary_accuracy: 0.7500 - 24ms/epoch - 24ms/step\n",
            "Epoch 60/100\n",
            "1/1 - 0s - loss: 0.2190 - binary_accuracy: 0.7500 - 8ms/epoch - 8ms/step\n",
            "Epoch 61/100\n",
            "1/1 - 0s - loss: 0.2186 - binary_accuracy: 0.7500 - 8ms/epoch - 8ms/step\n",
            "Epoch 62/100\n",
            "1/1 - 0s - loss: 0.2183 - binary_accuracy: 0.7500 - 11ms/epoch - 11ms/step\n",
            "Epoch 63/100\n",
            "1/1 - 0s - loss: 0.2179 - binary_accuracy: 0.7500 - 8ms/epoch - 8ms/step\n",
            "Epoch 64/100\n",
            "1/1 - 0s - loss: 0.2175 - binary_accuracy: 0.7500 - 9ms/epoch - 9ms/step\n",
            "Epoch 65/100\n",
            "1/1 - 0s - loss: 0.2171 - binary_accuracy: 0.7500 - 10ms/epoch - 10ms/step\n",
            "Epoch 66/100\n",
            "1/1 - 0s - loss: 0.2167 - binary_accuracy: 0.7500 - 16ms/epoch - 16ms/step\n",
            "Epoch 67/100\n",
            "1/1 - 0s - loss: 0.2164 - binary_accuracy: 0.7500 - 26ms/epoch - 26ms/step\n",
            "Epoch 68/100\n",
            "1/1 - 0s - loss: 0.2160 - binary_accuracy: 0.7500 - 18ms/epoch - 18ms/step\n",
            "Epoch 69/100\n",
            "1/1 - 0s - loss: 0.2156 - binary_accuracy: 0.7500 - 23ms/epoch - 23ms/step\n",
            "Epoch 70/100\n",
            "1/1 - 0s - loss: 0.2153 - binary_accuracy: 0.7500 - 18ms/epoch - 18ms/step\n",
            "Epoch 71/100\n",
            "1/1 - 0s - loss: 0.2149 - binary_accuracy: 0.7500 - 15ms/epoch - 15ms/step\n",
            "Epoch 72/100\n",
            "1/1 - 0s - loss: 0.2145 - binary_accuracy: 0.7500 - 14ms/epoch - 14ms/step\n",
            "Epoch 73/100\n",
            "1/1 - 0s - loss: 0.2141 - binary_accuracy: 0.7500 - 10ms/epoch - 10ms/step\n",
            "Epoch 74/100\n",
            "1/1 - 0s - loss: 0.2138 - binary_accuracy: 0.7500 - 16ms/epoch - 16ms/step\n",
            "Epoch 75/100\n",
            "1/1 - 0s - loss: 0.2134 - binary_accuracy: 0.7500 - 10ms/epoch - 10ms/step\n",
            "Epoch 76/100\n",
            "1/1 - 0s - loss: 0.2130 - binary_accuracy: 0.7500 - 11ms/epoch - 11ms/step\n",
            "Epoch 77/100\n",
            "1/1 - 0s - loss: 0.2126 - binary_accuracy: 0.7500 - 13ms/epoch - 13ms/step\n",
            "Epoch 78/100\n",
            "1/1 - 0s - loss: 0.2123 - binary_accuracy: 0.7500 - 9ms/epoch - 9ms/step\n",
            "Epoch 79/100\n",
            "1/1 - 0s - loss: 0.2119 - binary_accuracy: 0.7500 - 16ms/epoch - 16ms/step\n",
            "Epoch 80/100\n",
            "1/1 - 0s - loss: 0.2115 - binary_accuracy: 0.7500 - 9ms/epoch - 9ms/step\n",
            "Epoch 81/100\n",
            "1/1 - 0s - loss: 0.2112 - binary_accuracy: 0.7500 - 14ms/epoch - 14ms/step\n",
            "Epoch 82/100\n",
            "1/1 - 0s - loss: 0.2108 - binary_accuracy: 0.7500 - 15ms/epoch - 15ms/step\n",
            "Epoch 83/100\n",
            "1/1 - 0s - loss: 0.2104 - binary_accuracy: 0.7500 - 12ms/epoch - 12ms/step\n",
            "Epoch 84/100\n",
            "1/1 - 0s - loss: 0.2100 - binary_accuracy: 0.7500 - 11ms/epoch - 11ms/step\n",
            "Epoch 85/100\n",
            "1/1 - 0s - loss: 0.2096 - binary_accuracy: 0.7500 - 15ms/epoch - 15ms/step\n",
            "Epoch 86/100\n",
            "1/1 - 0s - loss: 0.2093 - binary_accuracy: 0.7500 - 13ms/epoch - 13ms/step\n",
            "Epoch 87/100\n",
            "1/1 - 0s - loss: 0.2089 - binary_accuracy: 0.7500 - 16ms/epoch - 16ms/step\n",
            "Epoch 88/100\n",
            "1/1 - 0s - loss: 0.2085 - binary_accuracy: 0.7500 - 12ms/epoch - 12ms/step\n",
            "Epoch 89/100\n",
            "1/1 - 0s - loss: 0.2082 - binary_accuracy: 0.7500 - 13ms/epoch - 13ms/step\n",
            "Epoch 90/100\n",
            "1/1 - 0s - loss: 0.2078 - binary_accuracy: 0.7500 - 14ms/epoch - 14ms/step\n",
            "Epoch 91/100\n",
            "1/1 - 0s - loss: 0.2074 - binary_accuracy: 0.7500 - 14ms/epoch - 14ms/step\n",
            "Epoch 92/100\n",
            "1/1 - 0s - loss: 0.2071 - binary_accuracy: 0.7500 - 15ms/epoch - 15ms/step\n",
            "Epoch 93/100\n",
            "1/1 - 0s - loss: 0.2067 - binary_accuracy: 0.7500 - 13ms/epoch - 13ms/step\n",
            "Epoch 94/100\n",
            "1/1 - 0s - loss: 0.2063 - binary_accuracy: 0.7500 - 14ms/epoch - 14ms/step\n",
            "Epoch 95/100\n",
            "1/1 - 0s - loss: 0.2059 - binary_accuracy: 0.7500 - 13ms/epoch - 13ms/step\n",
            "Epoch 96/100\n",
            "1/1 - 0s - loss: 0.2056 - binary_accuracy: 0.7500 - 14ms/epoch - 14ms/step\n",
            "Epoch 97/100\n",
            "1/1 - 0s - loss: 0.2052 - binary_accuracy: 0.7500 - 16ms/epoch - 16ms/step\n",
            "Epoch 98/100\n",
            "1/1 - 0s - loss: 0.2048 - binary_accuracy: 0.7500 - 14ms/epoch - 14ms/step\n",
            "Epoch 99/100\n",
            "1/1 - 0s - loss: 0.2044 - binary_accuracy: 0.7500 - 14ms/epoch - 14ms/step\n",
            "Epoch 100/100\n",
            "1/1 - 0s - loss: 0.2041 - binary_accuracy: 0.7500 - 14ms/epoch - 14ms/step\n"
          ]
        },
        {
          "output_type": "execute_result",
          "data": {
            "text/plain": [
              "<keras.callbacks.History at 0x7fd970f8acb0>"
            ]
          },
          "metadata": {},
          "execution_count": 5
        }
      ]
    },
    {
      "cell_type": "code",
      "source": [
        "print(model.predict(training_data).round())"
      ],
      "metadata": {
        "colab": {
          "base_uri": "https://localhost:8080/"
        },
        "id": "xiSrYfHYYyUN",
        "outputId": "5df2d5b2-add8-45cb-a216-91e5d8bbee38"
      },
      "execution_count": null,
      "outputs": [
        {
          "output_type": "stream",
          "name": "stdout",
          "text": [
            "1/1 [==============================] - 0s 367ms/step\n",
            "[[0.]\n",
            " [0.]\n",
            " [0.]\n",
            " [1.]]\n"
          ]
        }
      ]
    }
  ]
}